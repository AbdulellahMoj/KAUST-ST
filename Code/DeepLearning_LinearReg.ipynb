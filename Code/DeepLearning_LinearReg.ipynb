{
  "nbformat": 4,
  "nbformat_minor": 0,
  "metadata": {
    "colab": {
      "provenance": []
    },
    "kernelspec": {
      "name": "python3",
      "display_name": "Python 3"
    },
    "language_info": {
      "name": "python"
    }
  },
  "cells": [
    {
      "cell_type": "code",
      "execution_count": 1,
      "metadata": {
        "id": "bmCqB-J9vHGI"
      },
      "outputs": [],
      "source": [
        "import torch\n",
        "import torchvision\n",
        "import torch.nn as nn\n",
        "import torch.nn.functional as F\n",
        "from torch.utils.data import Dataset, DataLoader\n",
        "import os\n",
        "import imageio as iio\n",
        "import matplotlib.pyplot as plt\n",
        "import torch.optim as optim\n",
        "import numpy as np\n",
        "import pandas as pd"
      ]
    },
    {
      "cell_type": "code",
      "source": [
        "!wget -O Student_Performance.zip https://www.dropbox.com/scl/fi/1lceds9y54dbjoc5eiu0u/Student_Performance.zip?rlkey=ycuxtpgeufmadx9qk4mp9e9z7&dl=0\n"
      ],
      "metadata": {
        "colab": {
          "base_uri": "https://localhost:8080/"
        },
        "id": "SlsuTtS9vPax",
        "outputId": "aa715f47-3a95-4787-8442-968cf149b63f"
      },
      "execution_count": 2,
      "outputs": [
        {
          "output_type": "stream",
          "name": "stdout",
          "text": [
            "--2024-12-31 03:23:39--  https://www.dropbox.com/scl/fi/1lceds9y54dbjoc5eiu0u/Student_Performance.zip?rlkey=ycuxtpgeufmadx9qk4mp9e9z7\n",
            "Resolving www.dropbox.com (www.dropbox.com)... 162.125.1.18, 2620:100:6016:18::a27d:112\n",
            "Connecting to www.dropbox.com (www.dropbox.com)|162.125.1.18|:443... connected.\n",
            "HTTP request sent, awaiting response... 302 Found\n",
            "Location: https://uc5d1ca002ce632323909047ba8d.dl.dropboxusercontent.com/cd/0/inline/ChRmyN6pTfGZTxQdwwD702poVFG81hrbAom3ZnlcfKcYgiZ5iw418cfc-YR9ZCkRQ4G87grjaT_rOyiyaF7PTb5cfASGxxYqJFkTgU6MLKth3sv6sXLmEdwoND9KiUeZIbOrUmYwBTAnitqJDc4h6p_9/file# [following]\n",
            "--2024-12-31 03:23:40--  https://uc5d1ca002ce632323909047ba8d.dl.dropboxusercontent.com/cd/0/inline/ChRmyN6pTfGZTxQdwwD702poVFG81hrbAom3ZnlcfKcYgiZ5iw418cfc-YR9ZCkRQ4G87grjaT_rOyiyaF7PTb5cfASGxxYqJFkTgU6MLKth3sv6sXLmEdwoND9KiUeZIbOrUmYwBTAnitqJDc4h6p_9/file\n",
            "Resolving uc5d1ca002ce632323909047ba8d.dl.dropboxusercontent.com (uc5d1ca002ce632323909047ba8d.dl.dropboxusercontent.com)... 162.125.1.15, 2620:100:6016:15::a27d:10f\n",
            "Connecting to uc5d1ca002ce632323909047ba8d.dl.dropboxusercontent.com (uc5d1ca002ce632323909047ba8d.dl.dropboxusercontent.com)|162.125.1.15|:443... connected.\n",
            "HTTP request sent, awaiting response... 302 Found\n",
            "Location: /cd/0/inline2/ChTiyNlUv8hWu2XpLK5LZjA6BODs2N0nYxKNdro7J858_vCSnHhq9rOfWzWPxf-F01W6_htlrpbjZxDPHow2txL7ePHRJqXbNfdcU31ufemC6U4gMvxXPIeKLc7KZKnzxiTRQYZzmIt1EI-CAZNKgavzqJpDN9QpVpU47zXuIVxMktbDcFfQBg6_Pv9Sz5q8RmF_Y4w5BgFyPZmcr75QSRL-svQLpnfDcU48upQC5WzoUeExrMS4fsl2AKjWeVFtjmvAyWevXMjLqRjukvXS1tQvtO0JPwOibp3CF76ZcFeZDEtv5CJo-_QahDgN8Y0TFjXNhuaheZwyP2ldkVH5AmDYjAxvSH2oLcZv6fXnkUmi1BSAyh8utgQdMArxhy3oq9o/file [following]\n",
            "--2024-12-31 03:23:40--  https://uc5d1ca002ce632323909047ba8d.dl.dropboxusercontent.com/cd/0/inline2/ChTiyNlUv8hWu2XpLK5LZjA6BODs2N0nYxKNdro7J858_vCSnHhq9rOfWzWPxf-F01W6_htlrpbjZxDPHow2txL7ePHRJqXbNfdcU31ufemC6U4gMvxXPIeKLc7KZKnzxiTRQYZzmIt1EI-CAZNKgavzqJpDN9QpVpU47zXuIVxMktbDcFfQBg6_Pv9Sz5q8RmF_Y4w5BgFyPZmcr75QSRL-svQLpnfDcU48upQC5WzoUeExrMS4fsl2AKjWeVFtjmvAyWevXMjLqRjukvXS1tQvtO0JPwOibp3CF76ZcFeZDEtv5CJo-_QahDgN8Y0TFjXNhuaheZwyP2ldkVH5AmDYjAxvSH2oLcZv6fXnkUmi1BSAyh8utgQdMArxhy3oq9o/file\n",
            "Reusing existing connection to uc5d1ca002ce632323909047ba8d.dl.dropboxusercontent.com:443.\n",
            "HTTP request sent, awaiting response... 200 OK\n",
            "Length: 49424 (48K) [application/zip]\n",
            "Saving to: ‘Student_Performance.zip’\n",
            "\n",
            "Student_Performance 100%[===================>]  48.27K  --.-KB/s    in 0.009s  \n",
            "\n",
            "2024-12-31 03:23:40 (5.15 MB/s) - ‘Student_Performance.zip’ saved [49424/49424]\n",
            "\n"
          ]
        }
      ]
    },
    {
      "cell_type": "code",
      "source": [
        "!unzip Student_Performance.zip\n"
      ],
      "metadata": {
        "colab": {
          "base_uri": "https://localhost:8080/"
        },
        "id": "MHw1Mh5OvSeW",
        "outputId": "d281e9c9-bbca-4cdf-838d-18cc1d456ef4"
      },
      "execution_count": 3,
      "outputs": [
        {
          "output_type": "stream",
          "name": "stdout",
          "text": [
            "Archive:  Student_Performance.zip\n",
            "  inflating: Student_Performance.csv  \n",
            "  inflating: __MACOSX/._Student_Performance.csv  \n"
          ]
        }
      ]
    },
    {
      "cell_type": "code",
      "source": [
        "df = pd.read_csv(\"/content/Student_Performance.csv\")\n",
        "df['Extracurricular Activities'] = df['Extracurricular Activities'].astype('category').cat.codes\n",
        "X = df.drop(\"Performance Index\",axis = 1)\n",
        "y = df[\"Performance Index\"]"
      ],
      "metadata": {
        "id": "IJoM7rU-vVtq"
      },
      "execution_count": 15,
      "outputs": []
    },
    {
      "cell_type": "code",
      "source": [
        "# Split\n",
        "from sklearn.model_selection import train_test_split\n",
        "\n",
        "X_train, X_test, y_train, y_test = train_test_split(X,y,test_size = 0.2)"
      ],
      "metadata": {
        "id": "7DhjivL5vX7N"
      },
      "execution_count": 16,
      "outputs": []
    },
    {
      "cell_type": "markdown",
      "source": [
        "--"
      ],
      "metadata": {
        "id": "KAIfcO5xvd7q"
      }
    },
    {
      "cell_type": "code",
      "source": [
        "# change it from pandas to numpy to tensor \"matrix\"\n",
        "# train--\n",
        "x_train_tensor = torch.from_numpy(X_train.to_numpy()).float()\n",
        "y_train_tensor = torch.from_numpy(y_train.to_numpy()).float()\n",
        "\n",
        "train_set = torch.utils.data.TensorDataset(x_train_tensor, y_train_tensor)"
      ],
      "metadata": {
        "id": "6_gzMZB-vf22"
      },
      "execution_count": 17,
      "outputs": []
    },
    {
      "cell_type": "code",
      "source": [
        "#to check\n",
        "train_set[:][1]\n",
        "# train_set[:][0] give me x\n",
        "# train_set[:][1] give me y"
      ],
      "metadata": {
        "colab": {
          "base_uri": "https://localhost:8080/"
        },
        "id": "HAaSlhtGwHQg",
        "outputId": "8adb4e68-2c26-45bc-9e61-17a23a1e5b3c"
      },
      "execution_count": 20,
      "outputs": [
        {
          "output_type": "execute_result",
          "data": {
            "text/plain": [
              "tensor([51., 82., 90.,  ..., 43., 67., 64.])"
            ]
          },
          "metadata": {},
          "execution_count": 20
        }
      ]
    },
    {
      "cell_type": "code",
      "source": [
        "# test\n",
        "x_test_tensor = torch.from_numpy(X_test.to_numpy()).float()\n",
        "y_test_tensor = torch.from_numpy(y_test.to_numpy()).float()\n",
        "test_set = torch.utils.data.TensorDataset(x_test_tensor, y_test_tensor)"
      ],
      "metadata": {
        "id": "8TPJ-7mwvwS7"
      },
      "execution_count": 21,
      "outputs": []
    },
    {
      "cell_type": "markdown",
      "source": [
        "--"
      ],
      "metadata": {
        "id": "32NeSpPWwn_T"
      }
    },
    {
      "cell_type": "code",
      "source": [
        "# creat the linear model\n",
        "# nn.sequential = like a pipline\n",
        "model = nn.Sequential(\n",
        "    #nn.Linear its a Linear model\n",
        "    nn.Linear(X.shape[1], 39) #first layer from in to hidden\n",
        "    ,nn.ReLU()\n",
        "    ,nn.Linear(39,1) #sec layer hidden to outbut\n",
        "    # why 1? cuz its real value not class\n",
        ")\n"
      ],
      "metadata": {
        "id": "F24Mm91NwpW0"
      },
      "execution_count": 22,
      "outputs": []
    },
    {
      "cell_type": "code",
      "source": [
        "# now make the train loop\n",
        "\n",
        "# first > loss func\n",
        "loss_fun = nn.MSELoss()\n",
        "\n",
        "# optimizer\n",
        "# w = w - lr* gradiand\n",
        "optimizer = optim.SGD(model.parameters(),lr = 1e-4)\n",
        "# ie-4 == 0.0001\n",
        "\n",
        "epoch = 1 # numper of iterations\n",
        "\n",
        "for i in range(epoch):\n",
        "  # zeros the gradiant\n",
        "  optimizer.zero_grad()\n",
        "  # get x and y from train set\n",
        "  x = train_set[:][0]\n",
        "  y = train_set[:][1]\n",
        "\n",
        "  # get the prediction\n",
        "  prediction = model(x)\n",
        "\n",
        "  # get the loss\n",
        "  loss = loss_fun(prediction, y)\n",
        "\n",
        "  # now backward\n",
        "  loss.backward() # combute the gradiant\n",
        "\n",
        "  # use optimizer\n",
        "  optimizer.step() # update the w\n",
        "  print(f\"Epoch{i +1} loss:{loss}\")"
      ],
      "metadata": {
        "colab": {
          "base_uri": "https://localhost:8080/"
        },
        "id": "xMGngmLjxhlj",
        "outputId": "4904de47-cfdf-4323-9f4b-ca43edea2ed9"
      },
      "execution_count": 30,
      "outputs": [
        {
          "output_type": "stream",
          "name": "stderr",
          "text": [
            "/usr/local/lib/python3.10/dist-packages/torch/nn/modules/loss.py:608: UserWarning: Using a target size (torch.Size([8000])) that is different to the input size (torch.Size([8000, 1])). This will likely lead to incorrect results due to broadcasting. Please ensure they have the same size.\n",
            "  return F.mse_loss(input, target, reduction=self.reduction)\n"
          ]
        },
        {
          "output_type": "stream",
          "name": "stdout",
          "text": [
            "Epoch1 loss:484.8857421875\n"
          ]
        }
      ]
    },
    {
      "cell_type": "code",
      "source": [
        "# use root mean square to assess the model\n",
        "def rms(y,y_pred):\n",
        "  return np.sqrt(np.mean(np.square(y-y_pred)))\n",
        "\n",
        "print(rms(test_set[:][1].detach().numpy(), model(test_set[:][0]).detach().numpy()))\n",
        "rms(train_set[:][1].detach().numpy(), model(train_set[:][0]).detach().numpy())"
      ],
      "metadata": {
        "colab": {
          "base_uri": "https://localhost:8080/"
        },
        "id": "6vGB3_TK3hPW",
        "outputId": "34615522-3b70-4834-9b75-9e53f2dd321f"
      },
      "execution_count": 41,
      "outputs": [
        {
          "output_type": "stream",
          "name": "stdout",
          "text": [
            "21.78664\n"
          ]
        },
        {
          "output_type": "execute_result",
          "data": {
            "text/plain": [
              "22.012167"
            ]
          },
          "metadata": {},
          "execution_count": 41
        }
      ]
    },
    {
      "cell_type": "markdown",
      "source": [
        "-"
      ],
      "metadata": {
        "id": "cHn3VtX3Capr"
      }
    },
    {
      "cell_type": "markdown",
      "source": [
        "-"
      ],
      "metadata": {
        "id": "RaQ3WRDeCbdl"
      }
    }
  ]
}