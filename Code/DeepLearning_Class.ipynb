{
  "nbformat": 4,
  "nbformat_minor": 0,
  "metadata": {
    "colab": {
      "provenance": []
    },
    "kernelspec": {
      "name": "python3",
      "display_name": "Python 3"
    },
    "language_info": {
      "name": "python"
    }
  },
  "cells": [
    {
      "cell_type": "code",
      "execution_count": 70,
      "metadata": {
        "id": "bmCqB-J9vHGI"
      },
      "outputs": [],
      "source": [
        "import torch\n",
        "import torchvision\n",
        "import torch.nn as nn\n",
        "import torch.nn.functional as F\n",
        "from torch.utils.data import Dataset, DataLoader\n",
        "import os\n",
        "import imageio as iio\n",
        "import matplotlib.pyplot as plt\n",
        "import torch.optim as optim\n",
        "import numpy as np\n",
        "import pandas as pd"
      ]
    },
    {
      "cell_type": "code",
      "source": [
        "from sklearn.datasets import load_breast_cancer\n",
        "from sklearn.model_selection import train_test_split\n",
        "from sklearn.metrics import accuracy_score"
      ],
      "metadata": {
        "id": "ygLNQxVfCwmU"
      },
      "execution_count": 71,
      "outputs": []
    },
    {
      "cell_type": "code",
      "source": [
        "cancer = load_breast_cancer()\n",
        "x= cancer.data\n",
        "y= cancer.target\n",
        "\n"
      ],
      "metadata": {
        "id": "bHh9HML3Cz7O"
      },
      "execution_count": 72,
      "outputs": []
    },
    {
      "cell_type": "code",
      "source": [
        "# split\n",
        "x_train, x_test, y_train, y_test = train_test_split(x, y, test_size=0.2, random_state=30)"
      ],
      "metadata": {
        "id": "Ei8tf7P6DR82"
      },
      "execution_count": 73,
      "outputs": []
    },
    {
      "cell_type": "code",
      "source": [
        "type(x_train) # so i need to convert to tensors"
      ],
      "metadata": {
        "colab": {
          "base_uri": "https://localhost:8080/"
        },
        "id": "T5LDjxfDDZCw",
        "outputId": "089d2798-6fea-4422-c848-c8c1005adf35"
      },
      "execution_count": 74,
      "outputs": [
        {
          "output_type": "execute_result",
          "data": {
            "text/plain": [
              "numpy.ndarray"
            ]
          },
          "metadata": {},
          "execution_count": 74
        }
      ]
    },
    {
      "cell_type": "code",
      "source": [
        "x_train_tensor = torch.from_numpy(x_train.astype(np.float32))\n",
        "y_train_tensor = torch.from_numpy(y_train)\n",
        "train_set = torch.utils.data.TensorDataset(x_train_tensor, y_train_tensor)"
      ],
      "metadata": {
        "id": "3i2y-6aoDlty"
      },
      "execution_count": 75,
      "outputs": []
    },
    {
      "cell_type": "code",
      "source": [
        "x_test_tensor = torch.from_numpy(x_test.astype(np.float32))\n",
        "y_test_tensor = torch.from_numpy(y_test)\n",
        "test_set = torch.utils.data.TensorDataset(x_test_tensor, y_test_tensor)"
      ],
      "metadata": {
        "id": "ojhcBM9sD5WO"
      },
      "execution_count": 76,
      "outputs": []
    },
    {
      "cell_type": "markdown",
      "source": [
        "-"
      ],
      "metadata": {
        "id": "RaQ3WRDeCbdl"
      }
    },
    {
      "cell_type": "code",
      "source": [
        "model = nn.Sequential(\n",
        "    nn.Linear(x.shape[1],6),\n",
        "    nn.ReLU(),\n",
        "    nn.Linear(6,2),\n",
        "    nn.Softmax(dim=1)# will make prob from col\n",
        "\n",
        ")"
      ],
      "metadata": {
        "id": "JAeqAgSZEOPm"
      },
      "execution_count": 110,
      "outputs": []
    },
    {
      "cell_type": "code",
      "source": [
        "# now make the train loop\n",
        "\n",
        "# first > loss func\n",
        "loss_fun = nn.CrossEntropyLoss()\n",
        "#__________use the same loop from Linear but with this loss______________________\n",
        "\n",
        "# optimizer\n",
        "# w = w - lr* gradiand\n",
        "optimizer = optim.SGD(model.parameters(),lr = 0.05)\n",
        "# ie-4 == 0.0001\n",
        "\n",
        "epoch = 50 # numper of iterations\n",
        "\n",
        "for i in range(epoch):\n",
        "  # zeros the gradiant\n",
        "  optimizer.zero_grad()\n",
        "  # get x and y from train set\n",
        "  x = train_set[:][0]\n",
        "  y = train_set[:][1]\n",
        "\n",
        "  # get the prediction\n",
        "  prediction = model(x)\n",
        "\n",
        "  # get the loss\n",
        "  loss = loss_fun(prediction, y)\n",
        "\n",
        "  # now backward\n",
        "  loss.backward() # combute the gradiant\n",
        "\n",
        "  # use optimizer\n",
        "  optimizer.step() # update the w\n",
        "  print(f\"Epoch{i +1} loss:{loss}\")"
      ],
      "metadata": {
        "colab": {
          "base_uri": "https://localhost:8080/"
        },
        "id": "B3TpI3HuEjOr",
        "outputId": "3d4efe35-ec4a-4ab5-fae0-349c3d09b506"
      },
      "execution_count": 109,
      "outputs": [
        {
          "output_type": "stream",
          "name": "stdout",
          "text": [
            "Epoch1 loss:0.9440311193466187\n",
            "Epoch2 loss:0.9440311193466187\n",
            "Epoch3 loss:0.9440311193466187\n",
            "Epoch4 loss:0.9440311193466187\n",
            "Epoch5 loss:0.9440311193466187\n",
            "Epoch6 loss:0.9440311193466187\n",
            "Epoch7 loss:0.9440311193466187\n",
            "Epoch8 loss:0.9440311193466187\n",
            "Epoch9 loss:0.9440311193466187\n",
            "Epoch10 loss:0.9440311193466187\n",
            "Epoch11 loss:0.9440311193466187\n",
            "Epoch12 loss:0.9440311193466187\n",
            "Epoch13 loss:0.9440311193466187\n",
            "Epoch14 loss:0.9440311193466187\n",
            "Epoch15 loss:0.9440311193466187\n",
            "Epoch16 loss:0.9440311193466187\n",
            "Epoch17 loss:0.9440311193466187\n",
            "Epoch18 loss:0.9440311193466187\n",
            "Epoch19 loss:0.9440311193466187\n",
            "Epoch20 loss:0.9440311193466187\n",
            "Epoch21 loss:0.9440311193466187\n",
            "Epoch22 loss:0.9440311193466187\n",
            "Epoch23 loss:0.9440311193466187\n",
            "Epoch24 loss:0.9440311193466187\n",
            "Epoch25 loss:0.9440311193466187\n",
            "Epoch26 loss:0.9440311193466187\n",
            "Epoch27 loss:0.9440311193466187\n",
            "Epoch28 loss:0.9440311193466187\n",
            "Epoch29 loss:0.9440311193466187\n",
            "Epoch30 loss:0.9440311193466187\n",
            "Epoch31 loss:0.9440311193466187\n",
            "Epoch32 loss:0.9440311193466187\n",
            "Epoch33 loss:0.9440311193466187\n",
            "Epoch34 loss:0.9440311193466187\n",
            "Epoch35 loss:0.9440311193466187\n",
            "Epoch36 loss:0.9440311193466187\n",
            "Epoch37 loss:0.9440311193466187\n",
            "Epoch38 loss:0.9440311193466187\n",
            "Epoch39 loss:0.9440311193466187\n",
            "Epoch40 loss:0.9440311193466187\n",
            "Epoch41 loss:0.9440311193466187\n",
            "Epoch42 loss:0.9440311193466187\n",
            "Epoch43 loss:0.9440311193466187\n",
            "Epoch44 loss:0.9440311193466187\n",
            "Epoch45 loss:0.9440311193466187\n",
            "Epoch46 loss:0.9440311193466187\n",
            "Epoch47 loss:0.9440311193466187\n",
            "Epoch48 loss:0.9440311193466187\n",
            "Epoch49 loss:0.9440311193466187\n",
            "Epoch50 loss:0.9440311193466187\n"
          ]
        }
      ]
    },
    {
      "cell_type": "code",
      "source": [
        "y_pred = model(test_set[:][0])\n"
      ],
      "metadata": {
        "id": "-ShJBVWwGBfk"
      },
      "execution_count": 86,
      "outputs": []
    },
    {
      "cell_type": "code",
      "source": [
        "y_pred_label = torch.argmax(y_pred, dim=1)\n",
        "y_pred_label\n"
      ],
      "metadata": {
        "colab": {
          "base_uri": "https://localhost:8080/"
        },
        "id": "3sRRhqlQGX8K",
        "outputId": "601da559-6cab-45c7-c7d2-145027f13965"
      },
      "execution_count": 87,
      "outputs": [
        {
          "output_type": "execute_result",
          "data": {
            "text/plain": [
              "tensor([1, 1, 1, 1, 1, 1, 1, 1, 1, 1, 1, 1, 1, 1, 1, 1, 1, 1, 1, 1, 1, 1, 1, 1,\n",
              "        1, 1, 1, 1, 1, 1, 1, 1, 1, 1, 1, 1, 1, 1, 1, 1, 1, 1, 1, 1, 1, 1, 1, 1,\n",
              "        1, 1, 1, 1, 1, 1, 1, 1, 1, 1, 1, 1, 1, 1, 1, 1, 1, 1, 1, 1, 1, 1, 1, 1,\n",
              "        1, 1, 1, 1, 1, 1, 1, 1, 1, 1, 1, 1, 1, 1, 1, 1, 1, 1, 1, 1, 1, 1, 1, 1,\n",
              "        1, 1, 1, 1, 1, 1, 1, 1, 1, 1, 1, 1, 1, 1, 1, 1, 1, 1])"
            ]
          },
          "metadata": {},
          "execution_count": 87
        }
      ]
    },
    {
      "cell_type": "code",
      "source": [
        "accuracy_score(torch.argmax(model(test_set[:][0]), dim=1), test_set[:][1]) *100"
      ],
      "metadata": {
        "colab": {
          "base_uri": "https://localhost:8080/"
        },
        "id": "XHqT6hSgHv0w",
        "outputId": "1e069449-f659-4729-b33a-4da00c97de77"
      },
      "execution_count": 111,
      "outputs": [
        {
          "output_type": "execute_result",
          "data": {
            "text/plain": [
              "61.40350877192983"
            ]
          },
          "metadata": {},
          "execution_count": 111
        }
      ]
    },
    {
      "cell_type": "markdown",
      "source": [
        "# **bad model 60%**"
      ],
      "metadata": {
        "id": "nN2i5GylKlj-"
      }
    }
  ]
}