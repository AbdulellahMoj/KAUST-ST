{
  "cells": [
    {
      "cell_type": "code",
      "execution_count": 5,
      "metadata": {
        "id": "Wd4kFfSjKLYb"
      },
      "outputs": [],
      "source": [
        "# Find best fit line\n",
        "\n",
        "import numpy as np\n",
        "import sympy as sp"
      ]
    },
    {
      "cell_type": "code",
      "execution_count": 6,
      "metadata": {
        "id": "2dHXt_rJKSVg"
      },
      "outputs": [],
      "source": [
        "points = np.array([(-1, -1), (0, -3), (1, 1)])"
      ]
    },
    {
      "cell_type": "code",
      "execution_count": 7,
      "metadata": {
        "id": "8ZE6no9XKg3O"
      },
      "outputs": [],
      "source": [
        "C, D, t, y = sp.symbols('C D t y')"
      ]
    },
    {
      "cell_type": "code",
      "execution_count": 8,
      "metadata": {
        "colab": {
          "base_uri": "https://localhost:8080/"
        },
        "id": "9IpFe-S9LNoE",
        "outputId": "b2847114-40d8-4bd5-9db0-40c267f722bc"
      },
      "outputs": [
        {
          "name": "stdout",
          "output_type": "stream",
          "text": [
            "(C + 3)**2 + (C - D + 1)**2 + (C + D - 1)**2\n"
          ]
        }
      ],
      "source": [
        "SE = sum([((C +D*t_i)-y_i)**2 for t_i, y_i in points])\n",
        "\n",
        "print(SE)"
      ]
    },
    {
      "cell_type": "code",
      "execution_count": 11,
      "metadata": {
        "colab": {
          "base_uri": "https://localhost:8080/"
        },
        "id": "aIwJe9pEL40-",
        "outputId": "181b40d5-7212-4e81-867e-bce67e67bb83"
      },
      "outputs": [
        {
          "name": "stdout",
          "output_type": "stream",
          "text": [
            "6*C + 6\n",
            "4*D - 4\n"
          ]
        }
      ],
      "source": [
        "# partial Derivative\n",
        "\n",
        "SE_c = sp.diff(SE, C)\n",
        "print(SE_c)\n",
        "SE_d = sp.diff(SE, D)\n",
        "print(SE_d)"
      ]
    },
    {
      "cell_type": "code",
      "execution_count": 12,
      "metadata": {
        "id": "1xTImsAPMMsJ"
      },
      "outputs": [],
      "source": [
        "eq = [sp.Eq(SE_c,0), sp.Eq(SE_d,0)]\n"
      ]
    },
    {
      "cell_type": "code",
      "execution_count": 13,
      "metadata": {
        "colab": {
          "base_uri": "https://localhost:8080/"
        },
        "id": "gKzw3GTvMisG",
        "outputId": "d72fd931-9e65-47d4-d967-f4e878a43818"
      },
      "outputs": [
        {
          "name": "stdout",
          "output_type": "stream",
          "text": [
            "{C: -1, D: 1}\n"
          ]
        }
      ],
      "source": [
        "# Solve the equation\n",
        "\n",
        "sol = sp.solve(eq, [C, D])\n",
        "print(sol)"
      ]
    }
  ],
  "metadata": {
    "colab": {
      "provenance": []
    },
    "kernelspec": {
      "display_name": "Python 3",
      "name": "python3"
    },
    "language_info": {
      "name": "python"
    }
  },
  "nbformat": 4,
  "nbformat_minor": 0
}
